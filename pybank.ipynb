{
 "cells": [
  {
   "cell_type": "code",
   "execution_count": 6,
   "metadata": {},
   "outputs": [],
   "source": [
    "import csv\n",
    "import os\n",
    "from pathlib import Path"
   ]
  },
  {
   "cell_type": "code",
   "execution_count": 7,
   "metadata": {},
   "outputs": [],
   "source": [
    "file_to_load = Path(\"Resources/budget_data.csv\")"
   ]
  },
  {
   "cell_type": "code",
   "execution_count": 8,
   "metadata": {},
   "outputs": [],
   "source": [
    "# Read the CSV file\n",
    "with open(file_to_load, 'r') as file:\n",
    "    csvreader = csv.reader(file)\n",
    "    header = next(csvreader)\n",
    "    \n",
    "    # Initialize variables\n",
    "    total_months = 0\n",
    "    net_total = 0\n",
    "    changes = []\n",
    "    greatest_increase = ['', 0]\n",
    "    greatest_decrease = ['', 0]\n",
    "    previous_profit_loss = None\n",
    "    \n",
    "    # Iterate through each row in the CSV file\n",
    "    for row in csvreader:\n",
    "        # Update total months\n",
    "        total_months += 1\n",
    "        \n",
    "        # Update net total\n",
    "        profit_loss = int(row[1])\n",
    "        net_total += profit_loss\n",
    "        \n",
    "        # Calculate change in profit/loss\n",
    "        if previous_profit_loss is not None:\n",
    "            change = profit_loss - previous_profit_loss\n",
    "            changes.append(change)\n",
    "            \n",
    "            # Update greatest increase and decrease\n",
    "            if change > greatest_increase[1]:\n",
    "                greatest_increase = [row[0], change]\n",
    "            elif change < greatest_decrease[1]:\n",
    "                greatest_decrease = [row[0], change]\n",
    "        \n",
    "        previous_profit_loss = profit_loss\n",
    "\n",
    "# Calculate average change\n",
    "average_change = sum(changes) / len(changes)"
   ]
  },
  {
   "cell_type": "code",
   "execution_count": 9,
   "metadata": {},
   "outputs": [
    {
     "name": "stdout",
     "output_type": "stream",
     "text": [
      "Financial Analysis\n",
      "----------------------------\n",
      "Total Months: 86\n",
      "Total: $38382578\n",
      "Average Change: $-2315.12\n",
      "Greatest Increase in Profits: Feb-2012 ($1926159)\n",
      "Greatest Decrease in Losses: Sep-2013 ($-2196167)\n"
     ]
    }
   ],
   "source": [
    "# Print the results\n",
    "print(\"Financial Analysis\")\n",
    "print(\"----------------------------\")\n",
    "print(f\"Total Months: {total_months}\")\n",
    "print(f\"Total: ${net_total}\")\n",
    "print(f\"Average Change: ${average_change:.2f}\")\n",
    "print(f\"Greatest Increase in Profits: {greatest_increase[0]} (${greatest_increase[1]})\")\n",
    "print(f\"Greatest Decrease in Losses: {greatest_decrease[0]} (${greatest_decrease[1]})\")"
   ]
  }
 ],
 "metadata": {
  "kernelspec": {
   "display_name": "base",
   "language": "python",
   "name": "python3"
  },
  "language_info": {
   "codemirror_mode": {
    "name": "ipython",
    "version": 3
   },
   "file_extension": ".py",
   "mimetype": "text/x-python",
   "name": "python",
   "nbconvert_exporter": "python",
   "pygments_lexer": "ipython3",
   "version": "3.11.5"
  }
 },
 "nbformat": 4,
 "nbformat_minor": 2
}
